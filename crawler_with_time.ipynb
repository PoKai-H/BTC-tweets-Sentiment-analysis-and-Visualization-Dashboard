{
 "cells": [
  {
   "cell_type": "code",
   "execution_count": 1,
   "metadata": {},
   "outputs": [],
   "source": [
    "import snscrape.modules.twitter as sntwitter   \n",
    "import pandas as pd"
   ]
  },
  {
   "cell_type": "code",
   "execution_count": null,
   "metadata": {},
   "outputs": [],
   "source": [
    "import datetime\n",
    "\n",
    "time = datetime.datetime.fromtimestamp(int('1502942400000')/1000).strftime('%Y/%m/%d %H:%M:%S')  # 僅轉換格式讓自己看懂而已\n",
    "time"
   ]
  },
  {
   "cell_type": "code",
   "execution_count": 2,
   "metadata": {},
   "outputs": [],
   "source": [
    "from binance.client import Client"
   ]
  },
  {
   "cell_type": "code",
   "execution_count": 35,
   "metadata": {},
   "outputs": [
    {
     "name": "stdout",
     "output_type": "stream",
     "text": [
      "{'symbol': 'BTCUSDT', 'price': '16732.40000000'}\n"
     ]
    }
   ],
   "source": [
    "from binance.client import Client\n",
    "import configparser\n",
    "\n",
    "config = configparser.ConfigParser()\n",
    "config.read('config.ini')  # 讀取 config.ini 避免 api key 和 api secret 暴露在程式中\n",
    "\n",
    "api_key = config['binance']['api_key']\n",
    "api_secret = config['binance']['api_secret']\n",
    "\n",
    "client = Client(api_key,api_secret)\n",
    "\n",
    "\n",
    "btc_price = client.get_symbol_ticker(symbol='BTCUSDT')   # 讀取最近一筆 BTC 價格\n",
    "print(btc_price)"
   ]
  },
  {
   "cell_type": "code",
   "execution_count": 6,
   "metadata": {},
   "outputs": [],
   "source": [
    "timestamp = client._get_earliest_valid_timestamp('BTCUSDT','1d')  # 找到最早一筆交易時間"
   ]
  },
  {
   "cell_type": "code",
   "execution_count": 36,
   "metadata": {},
   "outputs": [],
   "source": [
    "bars_BTC = client.get_historical_klines('BTCUSDT', '1d', timestamp)  # 將幣價以每天一紀錄\n",
    "bars_ETH = client.get_historical_klines('ETHUSDT', '1d', timestamp)\n",
    "bars_SOL = client.get_historical_klines('SOLUSDT', '1d', timestamp)\n",
    "bars_DOGE = client.get_historical_klines('DOGEUSDT', '1d', timestamp)"
   ]
  },
  {
   "cell_type": "code",
   "execution_count": 37,
   "metadata": {},
   "outputs": [
    {
     "name": "stderr",
     "output_type": "stream",
     "text": [
      "/tmp/ipykernel_32589/1962537283.py:4: FutureWarning: DataFrame.set_axis 'inplace' keyword is deprecated and will be removed in a future version. Use `obj = obj.set_axis(..., copy=False)` instead\n",
      "  btc_df.set_axis(['Open time','Open','High','Low','Close','Volume','Close time'],axis=1,inplace = True)\n",
      "/tmp/ipykernel_32589/1962537283.py:11: FutureWarning: DataFrame.set_axis 'inplace' keyword is deprecated and will be removed in a future version. Use `obj = obj.set_axis(..., copy=False)` instead\n",
      "  eth_df.set_axis(['Open time','Open','High','Low','Close','Volume','Close time'],axis=1,inplace = True)\n",
      "/tmp/ipykernel_32589/1962537283.py:18: FutureWarning: DataFrame.set_axis 'inplace' keyword is deprecated and will be removed in a future version. Use `obj = obj.set_axis(..., copy=False)` instead\n",
      "  sol_df.set_axis(['Open time','Open','High','Low','Close','Volume','Close time'],axis=1,inplace = True)\n",
      "/tmp/ipykernel_32589/1962537283.py:25: FutureWarning: DataFrame.set_axis 'inplace' keyword is deprecated and will be removed in a future version. Use `obj = obj.set_axis(..., copy=False)` instead\n",
      "  doge_df.set_axis(['Open time','Open','High','Low','Close','Volume','Close time'],axis=1,inplace = True)\n"
     ]
    }
   ],
   "source": [
    "# 利用 pandas 整理需要的欄位\n",
    "btc_df = pd.DataFrame(bars_BTC)\n",
    "btc_df.drop(columns=[7,8,9,10,11],inplace=True)\n",
    "btc_df.set_axis(['Open time','Open','High','Low','Close','Volume','Close time'],axis=1,inplace = True)\n",
    "\n",
    "btc_close = pd.to_numeric(btc_df['Close'])  # 將str轉為 num\n",
    "btc_close_time = pd.to_datetime(btc_df['Close time'], unit='ms')  # 改變時間表示法\n",
    "\n",
    "eth_df = pd.DataFrame(bars_ETH)\n",
    "eth_df.drop(columns=[7,8,9,10,11],inplace=True)\n",
    "eth_df.set_axis(['Open time','Open','High','Low','Close','Volume','Close time'],axis=1,inplace = True)\n",
    "\n",
    "eth_close = pd.to_numeric(eth_df['Close'])\n",
    "eth_close_time = pd.to_datetime(eth_df['Close time'], unit='ms')\n",
    "\n",
    "sol_df = pd.DataFrame(bars_SOL)\n",
    "sol_df.drop(columns=[7,8,9,10,11],inplace=True)\n",
    "sol_df.set_axis(['Open time','Open','High','Low','Close','Volume','Close time'],axis=1,inplace = True)\n",
    "\n",
    "sol_close = pd.to_numeric(sol_df['Close'])\n",
    "sol_close_time = pd.to_datetime(sol_df['Close time'], unit='ms')\n",
    "\n",
    "doge_df = pd.DataFrame(bars_DOGE)\n",
    "doge_df.drop(columns=[7,8,9,10,11],inplace=True)\n",
    "doge_df.set_axis(['Open time','Open','High','Low','Close','Volume','Close time'],axis=1,inplace = True)\n",
    "\n",
    "doge_close = pd.to_numeric(doge_df['Close'])\n",
    "doge_close_time = pd.to_datetime(doge_df['Close time'], unit='ms')  # 改變時間表示法"
   ]
  },
  {
   "cell_type": "code",
   "execution_count": 14,
   "metadata": {},
   "outputs": [
    {
     "data": {
      "text/plain": [
       "(0       2017-08-17 04:59:59.999\n",
       " 1       2017-08-17 05:59:59.999\n",
       " 2       2017-08-17 06:59:59.999\n",
       " 3       2017-08-17 07:59:59.999\n",
       " 4       2017-08-17 08:59:59.999\n",
       "                   ...          \n",
       " 47020   2023-01-02 15:59:59.999\n",
       " 47021   2023-01-02 16:59:59.999\n",
       " 47022   2023-01-02 17:59:59.999\n",
       " 47023   2023-01-02 18:59:59.999\n",
       " 47024   2023-01-02 19:59:59.999\n",
       " Name: Close time, Length: 47025, dtype: datetime64[ns],\n",
       " 0         4308.83\n",
       " 1         4315.32\n",
       " 2         4324.35\n",
       " 3         4349.99\n",
       " 4         4360.69\n",
       "            ...   \n",
       " 47020    16734.66\n",
       " 47021    16710.88\n",
       " 47022    16715.42\n",
       " 47023    16723.81\n",
       " 47024    16723.32\n",
       " Name: Close, Length: 47025, dtype: float64)"
      ]
     },
     "execution_count": 14,
     "metadata": {},
     "output_type": "execute_result"
    }
   ],
   "source": [
    "btc_close_time, close_price"
   ]
  },
  {
   "cell_type": "code",
   "execution_count": 16,
   "metadata": {},
   "outputs": [
    {
     "data": {
      "text/plain": [
       "pandas.core.series.Series"
      ]
     },
     "execution_count": 16,
     "metadata": {},
     "output_type": "execute_result"
    }
   ],
   "source": [
    "type(btc_close_time)"
   ]
  },
  {
   "cell_type": "code",
   "execution_count": null,
   "metadata": {},
   "outputs": [],
   "source": []
  },
  {
   "cell_type": "code",
   "execution_count": 58,
   "metadata": {},
   "outputs": [],
   "source": [
    "def get_time(close_time,close_price):\n",
    "    time = []\n",
    "    for i in range(len(close_time)):\n",
    "        if close_price.iloc[i] <= close_price.iloc[i-1]*0.9:\n",
    "            time.append([str(btc_close_time.iloc[i-1]).split(' ')[0],str(btc_close_time.iloc[i]).split(' ')[0],str(btc_close_time.iloc[i+1]).split(' ')[0]])\n",
    "        \n",
    "        elif close_price.iloc[i] >= close_price.iloc[i-1]*1.10:\n",
    "            time.append([str(btc_close_time.iloc[i-1]).split(' ')[0],str(btc_close_time.iloc[i]).split(' ')[0],str(btc_close_time.iloc[i+1]).split(' ')[0]])\n",
    "        \n",
    "\n",
    "    return time"
   ]
  },
  {
   "cell_type": "code",
   "execution_count": 42,
   "metadata": {},
   "outputs": [
    {
     "data": {
      "text/plain": [
       "1965"
      ]
     },
     "execution_count": 42,
     "metadata": {},
     "output_type": "execute_result"
    }
   ],
   "source": [
    "len(btc_close_time)"
   ]
  },
  {
   "cell_type": "code",
   "execution_count": 59,
   "metadata": {},
   "outputs": [],
   "source": [
    "btc_time = get_time(btc_close_time, btc_close)\n",
    "eth_time = get_time(eth_close_time, eth_close)\n",
    "sol_time = get_time(sol_close_time, sol_close)\n",
    "doge_time = get_time(doge_close_time, doge_close)\n"
   ]
  },
  {
   "cell_type": "code",
   "execution_count": 61,
   "metadata": {},
   "outputs": [
    {
     "data": {
      "text/plain": [
       "70"
      ]
     },
     "execution_count": 61,
     "metadata": {},
     "output_type": "execute_result"
    }
   ],
   "source": [
    "len(btc_time)"
   ]
  },
  {
   "cell_type": "code",
   "execution_count": 41,
   "metadata": {},
   "outputs": [
    {
     "data": {
      "text/plain": [
       "319"
      ]
     },
     "execution_count": 41,
     "metadata": {},
     "output_type": "execute_result"
    }
   ],
   "source": [
    "len(btc_time)"
   ]
  },
  {
   "cell_type": "code",
   "execution_count": 33,
   "metadata": {},
   "outputs": [],
   "source": [
    "import snscrape.modules.twitter as sntwitter\n",
    "import snscrape"
   ]
  },
  {
   "cell_type": "code",
   "execution_count": null,
   "metadata": {},
   "outputs": [],
   "source": [
    "def get_date(row):\n",
    "    row = str(row)\n",
    "    return row.split(' ')[0]"
   ]
  },
  {
   "cell_type": "code",
   "execution_count": 90,
   "metadata": {},
   "outputs": [],
   "source": [
    "btc_tweets = []\n",
    "for time in btc_time:\n",
    "    n=0\n",
    "    query = f'BTC or Bitcoin since:{time[0]} until:{time[1]}'\n",
    "    for tweet in sntwitter.TwitterSearchScraper(query).get_items():\n",
    "        if n == 1000:\n",
    "            break\n",
    "        else:\n",
    "            btc_tweets.append([tweet.date, tweet.user.username, tweet.content, tweet.user.followersCount, tweet.user.friendsCount, tweet.user.statusesCount]) \n",
    "            n+=1\n",
    "btc_df = pd.DataFrame(btc_tweets, columns=['Date','User','Content','Followers','Friends','Statuses'])\n",
    "btc_df['Date'] = btc_df['Date'].apply(get_date)\n",
    "btc_df.to_csv('BTC_tweets.csv')"
   ]
  },
  {
   "cell_type": "code",
   "execution_count": 91,
   "metadata": {},
   "outputs": [],
   "source": [
    "eth_tweets = []\n",
    "for time in eth_time:\n",
    "    n=0\n",
    "    query = f'ETH or Ethereum since:{time[0]} until:{time[1]}'\n",
    "    for tweet in sntwitter.TwitterSearchScraper(query).get_items():\n",
    "        if n == 1000:\n",
    "            break\n",
    "        else:\n",
    "            eth_tweets.append([tweet.date, tweet.user.username, tweet.content, tweet.user.followersCount, tweet.user.friendsCount, tweet.user.statusesCount]) \n",
    "            n+=1\n",
    "eth_df = pd.DataFrame(eth_tweets, columns=['Date','User','Content','Followers','Friends','Statuses'])\n",
    "eth_df['Date'] = eth_df['Date'].apply(get_date)\n",
    "eth_df.to_csv('ETH_tweets.csv')"
   ]
  },
  {
   "cell_type": "code",
   "execution_count": 92,
   "metadata": {},
   "outputs": [],
   "source": [
    "sol_tweets = []\n",
    "for time in sol_time:\n",
    "    n=0\n",
    "    query = f'SOL or Solana since:{time[0]} until:{time[1]}'\n",
    "    for tweet in sntwitter.TwitterSearchScraper(query).get_items():\n",
    "        if n == 1000:\n",
    "            break\n",
    "        else:\n",
    "            sol_tweets.append([tweet.date, tweet.user.username, tweet.content, tweet.user.followersCount, tweet.user.friendsCount, tweet.user.statusesCount]) \n",
    "            n+=1\n",
    "sol_df = pd.DataFrame(sol_tweets, columns=['Date','User','Content','Followers','Friends','Statuses'])\n",
    "sol_df['Date'] = sol_df['Date'].apply(get_date)\n",
    "sol_df.to_csv('SOL_tweets.csv')"
   ]
  },
  {
   "cell_type": "code",
   "execution_count": 93,
   "metadata": {},
   "outputs": [],
   "source": [
    "doge_tweets = []\n",
    "for time in doge_time:\n",
    "    n=0\n",
    "    query = f'DOGE or Dogecoin since:{time[0]} until:{time[1]}'\n",
    "    for tweet in sntwitter.TwitterSearchScraper(query).get_items():\n",
    "        if n == 1000:\n",
    "            break\n",
    "        else:\n",
    "            doge_tweets.append([tweet.date, tweet.user.username, tweet.content, tweet.user.followersCount, tweet.user.friendsCount, tweet.user.statusesCount]) \n",
    "            n+=1\n",
    "doge_df = pd.DataFrame(doge_tweets, columns=['Date','User','Content','Followers','Friends','Statuses'])\n",
    "doge_df['Date'] = doge_df['Date'].apply(get_date)\n",
    "doge_df.to_csv('DOGE_tweets.csv')"
   ]
  },
  {
   "cell_type": "code",
   "execution_count": 77,
   "metadata": {},
   "outputs": [],
   "source": [
    "def get_date(row):\n",
    "    row = str(row)\n",
    "    return row.split(' ')[0]"
   ]
  },
  {
   "cell_type": "code",
   "execution_count": 79,
   "metadata": {},
   "outputs": [
    {
     "data": {
      "text/html": [
       "<div>\n",
       "<style scoped>\n",
       "    .dataframe tbody tr th:only-of-type {\n",
       "        vertical-align: middle;\n",
       "    }\n",
       "\n",
       "    .dataframe tbody tr th {\n",
       "        vertical-align: top;\n",
       "    }\n",
       "\n",
       "    .dataframe thead th {\n",
       "        text-align: right;\n",
       "    }\n",
       "</style>\n",
       "<table border=\"1\" class=\"dataframe\">\n",
       "  <thead>\n",
       "    <tr style=\"text-align: right;\">\n",
       "      <th></th>\n",
       "      <th>Date</th>\n",
       "      <th>User</th>\n",
       "      <th>Content</th>\n",
       "      <th>Followers</th>\n",
       "      <th>Friends</th>\n",
       "      <th>Statuses</th>\n",
       "    </tr>\n",
       "  </thead>\n",
       "  <tbody>\n",
       "    <tr>\n",
       "      <th>0</th>\n",
       "      <td>2017-09-13 23:46:51+00:00</td>\n",
       "      <td>BMouler</td>\n",
       "      <td>Mike Krieger Asks Which Is 'Fraudulent': Bitco...</td>\n",
       "      <td>6922</td>\n",
       "      <td>586</td>\n",
       "      <td>69073</td>\n",
       "    </tr>\n",
       "    <tr>\n",
       "      <th>1</th>\n",
       "      <td>2017-09-13 23:15:01+00:00</td>\n",
       "      <td>big_blockers</td>\n",
       "      <td>The current price of Bitcoin is $3941.87.\\n Th...</td>\n",
       "      <td>3041</td>\n",
       "      <td>165</td>\n",
       "      <td>107635</td>\n",
       "    </tr>\n",
       "    <tr>\n",
       "      <th>2</th>\n",
       "      <td>2017-09-13 23:02:05+00:00</td>\n",
       "      <td>theperson3233</td>\n",
       "      <td>@officialmcafee You talking about Bitcoin cash...</td>\n",
       "      <td>397</td>\n",
       "      <td>610</td>\n",
       "      <td>4528</td>\n",
       "    </tr>\n",
       "    <tr>\n",
       "      <th>3</th>\n",
       "      <td>2017-09-13 23:01:03+00:00</td>\n",
       "      <td>DisruptBanksy</td>\n",
       "      <td>Buy or sell $100 of #digitalcurrency or more v...</td>\n",
       "      <td>4490</td>\n",
       "      <td>4974</td>\n",
       "      <td>148694</td>\n",
       "    </tr>\n",
       "    <tr>\n",
       "      <th>4</th>\n",
       "      <td>2017-09-13 22:50:57+00:00</td>\n",
       "      <td>JasperJove</td>\n",
       "      <td>@officialmcafee Hi John, when you say Bitcoin ...</td>\n",
       "      <td>182</td>\n",
       "      <td>555</td>\n",
       "      <td>7548</td>\n",
       "    </tr>\n",
       "    <tr>\n",
       "      <th>...</th>\n",
       "      <td>...</td>\n",
       "      <td>...</td>\n",
       "      <td>...</td>\n",
       "      <td>...</td>\n",
       "      <td>...</td>\n",
       "      <td>...</td>\n",
       "    </tr>\n",
       "    <tr>\n",
       "      <th>685</th>\n",
       "      <td>2022-11-09 23:44:37+00:00</td>\n",
       "      <td>streetstryker</td>\n",
       "      <td>@MattStirner @saylor We talking bout the dolla...</td>\n",
       "      <td>76</td>\n",
       "      <td>31</td>\n",
       "      <td>439</td>\n",
       "    </tr>\n",
       "    <tr>\n",
       "      <th>686</th>\n",
       "      <td>2022-11-09 23:41:03+00:00</td>\n",
       "      <td>JoeJoe6817835</td>\n",
       "      <td>Guns don’t kill people, people do. Is your #BT...</td>\n",
       "      <td>49</td>\n",
       "      <td>127</td>\n",
       "      <td>28</td>\n",
       "    </tr>\n",
       "    <tr>\n",
       "      <th>687</th>\n",
       "      <td>2022-11-09 23:36:11+00:00</td>\n",
       "      <td>EmanFT_76</td>\n",
       "      <td>If the #BTC or #Bitcoin price were actually ba...</td>\n",
       "      <td>110</td>\n",
       "      <td>199</td>\n",
       "      <td>31</td>\n",
       "    </tr>\n",
       "    <tr>\n",
       "      <th>688</th>\n",
       "      <td>2022-11-09 23:34:30+00:00</td>\n",
       "      <td>0xZander20</td>\n",
       "      <td>WWYD? Buy another ASIC or #BTMFD? #BTC #Bitcoin</td>\n",
       "      <td>115</td>\n",
       "      <td>239</td>\n",
       "      <td>32</td>\n",
       "    </tr>\n",
       "    <tr>\n",
       "      <th>689</th>\n",
       "      <td>2022-11-09 23:33:13+00:00</td>\n",
       "      <td>BirkinFinder</td>\n",
       "      <td>Sign of the times when an authentic, 35cm Etou...</td>\n",
       "      <td>9</td>\n",
       "      <td>6</td>\n",
       "      <td>1156</td>\n",
       "    </tr>\n",
       "  </tbody>\n",
       "</table>\n",
       "<p>690 rows × 6 columns</p>\n",
       "</div>"
      ],
      "text/plain": [
       "                         Date           User  \\\n",
       "0   2017-09-13 23:46:51+00:00        BMouler   \n",
       "1   2017-09-13 23:15:01+00:00   big_blockers   \n",
       "2   2017-09-13 23:02:05+00:00  theperson3233   \n",
       "3   2017-09-13 23:01:03+00:00  DisruptBanksy   \n",
       "4   2017-09-13 22:50:57+00:00     JasperJove   \n",
       "..                        ...            ...   \n",
       "685 2022-11-09 23:44:37+00:00  streetstryker   \n",
       "686 2022-11-09 23:41:03+00:00  JoeJoe6817835   \n",
       "687 2022-11-09 23:36:11+00:00      EmanFT_76   \n",
       "688 2022-11-09 23:34:30+00:00     0xZander20   \n",
       "689 2022-11-09 23:33:13+00:00   BirkinFinder   \n",
       "\n",
       "                                               Content  Followers  Friends  \\\n",
       "0    Mike Krieger Asks Which Is 'Fraudulent': Bitco...       6922      586   \n",
       "1    The current price of Bitcoin is $3941.87.\\n Th...       3041      165   \n",
       "2    @officialmcafee You talking about Bitcoin cash...        397      610   \n",
       "3    Buy or sell $100 of #digitalcurrency or more v...       4490     4974   \n",
       "4    @officialmcafee Hi John, when you say Bitcoin ...        182      555   \n",
       "..                                                 ...        ...      ...   \n",
       "685  @MattStirner @saylor We talking bout the dolla...         76       31   \n",
       "686  Guns don’t kill people, people do. Is your #BT...         49      127   \n",
       "687  If the #BTC or #Bitcoin price were actually ba...        110      199   \n",
       "688    WWYD? Buy another ASIC or #BTMFD? #BTC #Bitcoin        115      239   \n",
       "689  Sign of the times when an authentic, 35cm Etou...          9        6   \n",
       "\n",
       "     Statuses  \n",
       "0       69073  \n",
       "1      107635  \n",
       "2        4528  \n",
       "3      148694  \n",
       "4        7548  \n",
       "..        ...  \n",
       "685       439  \n",
       "686        28  \n",
       "687        31  \n",
       "688        32  \n",
       "689      1156  \n",
       "\n",
       "[690 rows x 6 columns]"
      ]
     },
     "execution_count": 79,
     "metadata": {},
     "output_type": "execute_result"
    }
   ],
   "source": [
    "df"
   ]
  },
  {
   "cell_type": "code",
   "execution_count": 81,
   "metadata": {},
   "outputs": [],
   "source": [
    "df['Date'] = df['Date'].apply(get_date)"
   ]
  },
  {
   "cell_type": "code",
   "execution_count": 86,
   "metadata": {},
   "outputs": [
    {
     "data": {
      "text/html": [
       "<div>\n",
       "<style scoped>\n",
       "    .dataframe tbody tr th:only-of-type {\n",
       "        vertical-align: middle;\n",
       "    }\n",
       "\n",
       "    .dataframe tbody tr th {\n",
       "        vertical-align: top;\n",
       "    }\n",
       "\n",
       "    .dataframe thead th {\n",
       "        text-align: right;\n",
       "    }\n",
       "</style>\n",
       "<table border=\"1\" class=\"dataframe\">\n",
       "  <thead>\n",
       "    <tr style=\"text-align: right;\">\n",
       "      <th></th>\n",
       "      <th>Date</th>\n",
       "      <th>User</th>\n",
       "      <th>Content</th>\n",
       "      <th>Followers</th>\n",
       "      <th>Friends</th>\n",
       "      <th>Statuses</th>\n",
       "    </tr>\n",
       "  </thead>\n",
       "  <tbody>\n",
       "    <tr>\n",
       "      <th>0</th>\n",
       "      <td>2017-09-13</td>\n",
       "      <td>BMouler</td>\n",
       "      <td>Mike Krieger Asks Which Is 'Fraudulent': Bitco...</td>\n",
       "      <td>6922</td>\n",
       "      <td>586</td>\n",
       "      <td>69073</td>\n",
       "    </tr>\n",
       "    <tr>\n",
       "      <th>14</th>\n",
       "      <td>2017-09-14</td>\n",
       "      <td>CryptoNewswire</td>\n",
       "      <td>Buy Gold Or Bitcoin? - https://t.co/MdG3c38g8X...</td>\n",
       "      <td>9787</td>\n",
       "      <td>175</td>\n",
       "      <td>278629</td>\n",
       "    </tr>\n",
       "    <tr>\n",
       "      <th>53</th>\n",
       "      <td>2017-12-05</td>\n",
       "      <td>NODEfather</td>\n",
       "      <td>So @RSKsmart is great... But remember folks, I...</td>\n",
       "      <td>5059</td>\n",
       "      <td>967</td>\n",
       "      <td>34192</td>\n",
       "    </tr>\n",
       "    <tr>\n",
       "      <th>57</th>\n",
       "      <td>2017-12-05</td>\n",
       "      <td>Freemason_UK</td>\n",
       "      <td>If you’re new to Crypto and fancy buying some ...</td>\n",
       "      <td>7650</td>\n",
       "      <td>3710</td>\n",
       "      <td>47729</td>\n",
       "    </tr>\n",
       "    <tr>\n",
       "      <th>58</th>\n",
       "      <td>2017-12-05</td>\n",
       "      <td>NYCPunter</td>\n",
       "      <td>@BankofGSimms Bitcoin knows no territorial bou...</td>\n",
       "      <td>10479</td>\n",
       "      <td>1738</td>\n",
       "      <td>82861</td>\n",
       "    </tr>\n",
       "    <tr>\n",
       "      <th>...</th>\n",
       "      <td>...</td>\n",
       "      <td>...</td>\n",
       "      <td>...</td>\n",
       "      <td>...</td>\n",
       "      <td>...</td>\n",
       "      <td>...</td>\n",
       "    </tr>\n",
       "    <tr>\n",
       "      <th>616</th>\n",
       "      <td>2022-02-03</td>\n",
       "      <td>Mad_MaxCrypto</td>\n",
       "      <td>BTC: \"𝗣𝗿𝗶𝗰𝗲 𝗶𝘀 𝗙𝗿𝗮𝗰𝘁𝗮𝗹\"\\n\\nIdk it will play ou...</td>\n",
       "      <td>9232</td>\n",
       "      <td>397</td>\n",
       "      <td>1941</td>\n",
       "    </tr>\n",
       "    <tr>\n",
       "      <th>634</th>\n",
       "      <td>2022-05-08</td>\n",
       "      <td>cjaymacy</td>\n",
       "      <td>Catching the absolute #ETH / #BTC bottom on th...</td>\n",
       "      <td>12864</td>\n",
       "      <td>3893</td>\n",
       "      <td>9525</td>\n",
       "    </tr>\n",
       "    <tr>\n",
       "      <th>637</th>\n",
       "      <td>2022-05-08</td>\n",
       "      <td>Eljaboom</td>\n",
       "      <td>Crypto Billionaire Brock Pierce Says Bitcoin (...</td>\n",
       "      <td>597947</td>\n",
       "      <td>1013</td>\n",
       "      <td>114075</td>\n",
       "    </tr>\n",
       "    <tr>\n",
       "      <th>666</th>\n",
       "      <td>2022-09-08</td>\n",
       "      <td>XForceGlobal</td>\n",
       "      <td>#DOMINANCE (BTC.D)\\n\\nBreaking 👀 Will this tim...</td>\n",
       "      <td>11833</td>\n",
       "      <td>148</td>\n",
       "      <td>9666</td>\n",
       "    </tr>\n",
       "    <tr>\n",
       "      <th>672</th>\n",
       "      <td>2022-11-08</td>\n",
       "      <td>fold_app</td>\n",
       "      <td>Giveaway Time!!\\n\\n➕ $100 of #bitcoin to your ...</td>\n",
       "      <td>51353</td>\n",
       "      <td>1486</td>\n",
       "      <td>26899</td>\n",
       "    </tr>\n",
       "  </tbody>\n",
       "</table>\n",
       "<p>108 rows × 6 columns</p>\n",
       "</div>"
      ],
      "text/plain": [
       "           Date            User  \\\n",
       "0    2017-09-13         BMouler   \n",
       "14   2017-09-14  CryptoNewswire   \n",
       "53   2017-12-05      NODEfather   \n",
       "57   2017-12-05    Freemason_UK   \n",
       "58   2017-12-05       NYCPunter   \n",
       "..          ...             ...   \n",
       "616  2022-02-03   Mad_MaxCrypto   \n",
       "634  2022-05-08        cjaymacy   \n",
       "637  2022-05-08        Eljaboom   \n",
       "666  2022-09-08    XForceGlobal   \n",
       "672  2022-11-08        fold_app   \n",
       "\n",
       "                                               Content  Followers  Friends  \\\n",
       "0    Mike Krieger Asks Which Is 'Fraudulent': Bitco...       6922      586   \n",
       "14   Buy Gold Or Bitcoin? - https://t.co/MdG3c38g8X...       9787      175   \n",
       "53   So @RSKsmart is great... But remember folks, I...       5059      967   \n",
       "57   If you’re new to Crypto and fancy buying some ...       7650     3710   \n",
       "58   @BankofGSimms Bitcoin knows no territorial bou...      10479     1738   \n",
       "..                                                 ...        ...      ...   \n",
       "616  BTC: \"𝗣𝗿𝗶𝗰𝗲 𝗶𝘀 𝗙𝗿𝗮𝗰𝘁𝗮𝗹\"\\n\\nIdk it will play ou...       9232      397   \n",
       "634  Catching the absolute #ETH / #BTC bottom on th...      12864     3893   \n",
       "637  Crypto Billionaire Brock Pierce Says Bitcoin (...     597947     1013   \n",
       "666  #DOMINANCE (BTC.D)\\n\\nBreaking 👀 Will this tim...      11833      148   \n",
       "672  Giveaway Time!!\\n\\n➕ $100 of #bitcoin to your ...      51353     1486   \n",
       "\n",
       "     Statuses  \n",
       "0       69073  \n",
       "14     278629  \n",
       "53      34192  \n",
       "57      47729  \n",
       "58      82861  \n",
       "..        ...  \n",
       "616      1941  \n",
       "634      9525  \n",
       "637    114075  \n",
       "666      9666  \n",
       "672     26899  \n",
       "\n",
       "[108 rows x 6 columns]"
      ]
     },
     "execution_count": 86,
     "metadata": {},
     "output_type": "execute_result"
    }
   ],
   "source": [
    "df[df['Followers']>5000]"
   ]
  },
  {
   "cell_type": "code",
   "execution_count": 65,
   "metadata": {},
   "outputs": [],
   "source": [
    "new_df = df.groupby('Date')"
   ]
  },
  {
   "cell_type": "code",
   "execution_count": 68,
   "metadata": {},
   "outputs": [
    {
     "data": {
      "text/html": [
       "<div>\n",
       "<style scoped>\n",
       "    .dataframe tbody tr th:only-of-type {\n",
       "        vertical-align: middle;\n",
       "    }\n",
       "\n",
       "    .dataframe tbody tr th {\n",
       "        vertical-align: top;\n",
       "    }\n",
       "\n",
       "    .dataframe thead th {\n",
       "        text-align: right;\n",
       "    }\n",
       "</style>\n",
       "<table border=\"1\" class=\"dataframe\">\n",
       "  <thead>\n",
       "    <tr style=\"text-align: right;\">\n",
       "      <th></th>\n",
       "      <th>0</th>\n",
       "      <th>1</th>\n",
       "    </tr>\n",
       "  </thead>\n",
       "  <tbody>\n",
       "    <tr>\n",
       "      <th>0</th>\n",
       "      <td>2017-09-13 00:01:11+00:00</td>\n",
       "      <td>Date             User ...</td>\n",
       "    </tr>\n",
       "    <tr>\n",
       "      <th>1</th>\n",
       "      <td>2017-09-13 00:15:01+00:00</td>\n",
       "      <td>Date          User  \\\n",
       "...</td>\n",
       "    </tr>\n",
       "    <tr>\n",
       "      <th>2</th>\n",
       "      <td>2017-09-13 01:05:26+00:00</td>\n",
       "      <td>Date    User  \\\n",
       "64 201...</td>\n",
       "    </tr>\n",
       "    <tr>\n",
       "      <th>3</th>\n",
       "      <td>2017-09-13 01:15:02+00:00</td>\n",
       "      <td>Date          User  \\\n",
       "...</td>\n",
       "    </tr>\n",
       "    <tr>\n",
       "      <th>4</th>\n",
       "      <td>2017-09-13 01:17:06+00:00</td>\n",
       "      <td>Date           User  \\...</td>\n",
       "    </tr>\n",
       "    <tr>\n",
       "      <th>...</th>\n",
       "      <td>...</td>\n",
       "      <td>...</td>\n",
       "    </tr>\n",
       "    <tr>\n",
       "      <th>95</th>\n",
       "      <td>2017-09-14 22:31:50+00:00</td>\n",
       "      <td>Date            User  ...</td>\n",
       "    </tr>\n",
       "    <tr>\n",
       "      <th>96</th>\n",
       "      <td>2017-09-14 23:15:01+00:00</td>\n",
       "      <td>Date          User  \\\n",
       "...</td>\n",
       "    </tr>\n",
       "    <tr>\n",
       "      <th>97</th>\n",
       "      <td>2017-09-14 23:23:25+00:00</td>\n",
       "      <td>Date         User  \\\n",
       "6...</td>\n",
       "    </tr>\n",
       "    <tr>\n",
       "      <th>98</th>\n",
       "      <td>2017-09-14 23:29:03+00:00</td>\n",
       "      <td>Date            User  ...</td>\n",
       "    </tr>\n",
       "    <tr>\n",
       "      <th>99</th>\n",
       "      <td>2017-09-14 23:39:19+00:00</td>\n",
       "      <td>Date         User  \\\n",
       "6...</td>\n",
       "    </tr>\n",
       "  </tbody>\n",
       "</table>\n",
       "<p>100 rows × 2 columns</p>\n",
       "</div>"
      ],
      "text/plain": [
       "                           0  \\\n",
       "0  2017-09-13 00:01:11+00:00   \n",
       "1  2017-09-13 00:15:01+00:00   \n",
       "2  2017-09-13 01:05:26+00:00   \n",
       "3  2017-09-13 01:15:02+00:00   \n",
       "4  2017-09-13 01:17:06+00:00   \n",
       "..                       ...   \n",
       "95 2017-09-14 22:31:50+00:00   \n",
       "96 2017-09-14 23:15:01+00:00   \n",
       "97 2017-09-14 23:23:25+00:00   \n",
       "98 2017-09-14 23:29:03+00:00   \n",
       "99 2017-09-14 23:39:19+00:00   \n",
       "\n",
       "                                                    1  \n",
       "0                           Date             User ...  \n",
       "1                           Date          User  \\\n",
       "...  \n",
       "2                           Date    User  \\\n",
       "64 201...  \n",
       "3                           Date          User  \\\n",
       "...  \n",
       "4                           Date           User  \\...  \n",
       "..                                                ...  \n",
       "95                          Date            User  ...  \n",
       "96                          Date          User  \\\n",
       "...  \n",
       "97                          Date         User  \\\n",
       "6...  \n",
       "98                          Date            User  ...  \n",
       "99                          Date         User  \\\n",
       "6...  \n",
       "\n",
       "[100 rows x 2 columns]"
      ]
     },
     "execution_count": 68,
     "metadata": {},
     "output_type": "execute_result"
    }
   ],
   "source": [
    "new_df = pd.DataFrame(new_df)\n",
    "new_df"
   ]
  }
 ],
 "metadata": {
  "kernelspec": {
   "display_name": "crawler_course",
   "language": "python",
   "name": "python3"
  },
  "language_info": {
   "codemirror_mode": {
    "name": "ipython",
    "version": 3
   },
   "file_extension": ".py",
   "mimetype": "text/x-python",
   "name": "python",
   "nbconvert_exporter": "python",
   "pygments_lexer": "ipython3",
   "version": "3.10.8 (main, Nov 24 2022, 14:13:03) [GCC 11.2.0]"
  },
  "orig_nbformat": 4,
  "vscode": {
   "interpreter": {
    "hash": "0a6ba9941288f714356349755966eb186cd9be4426cafe3b89464483255d162a"
   }
  }
 },
 "nbformat": 4,
 "nbformat_minor": 2
}
