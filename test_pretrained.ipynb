{
 "cells": [
  {
   "cell_type": "code",
   "execution_count": 90,
   "metadata": {},
   "outputs": [],
   "source": [
    "import requests\n",
    "import matplotlib.pyplot as plt\n",
    "import pandas as pd\n",
    "import datetime\n",
    "from binance.client import Client\n",
    "import configparser"
   ]
  },
  {
   "cell_type": "code",
   "execution_count": 91,
   "metadata": {},
   "outputs": [],
   "source": [
    "btc_tweets = pd.read_csv('BTC_tweets.csv')\n",
    "eth_tweets = pd.read_csv('ETH_tweets.csv')\n",
    "sol_tweets = pd.read_csv('SOL_tweets.csv')\n",
    "doge_tweets = pd.read_csv('DOGE_tweets.csv')"
   ]
  },
  {
   "cell_type": "code",
   "execution_count": 92,
   "metadata": {},
   "outputs": [
    {
     "data": {
      "text/html": [
       "<div>\n",
       "<style scoped>\n",
       "    .dataframe tbody tr th:only-of-type {\n",
       "        vertical-align: middle;\n",
       "    }\n",
       "\n",
       "    .dataframe tbody tr th {\n",
       "        vertical-align: top;\n",
       "    }\n",
       "\n",
       "    .dataframe thead th {\n",
       "        text-align: right;\n",
       "    }\n",
       "</style>\n",
       "<table border=\"1\" class=\"dataframe\">\n",
       "  <thead>\n",
       "    <tr style=\"text-align: right;\">\n",
       "      <th></th>\n",
       "      <th>Unnamed: 0</th>\n",
       "      <th>Date</th>\n",
       "      <th>User</th>\n",
       "      <th>Content</th>\n",
       "      <th>Followers</th>\n",
       "      <th>Friends</th>\n",
       "      <th>Statuses</th>\n",
       "    </tr>\n",
       "  </thead>\n",
       "  <tbody>\n",
       "    <tr>\n",
       "      <th>0</th>\n",
       "      <td>0</td>\n",
       "      <td>2017-09-13</td>\n",
       "      <td>BMouler</td>\n",
       "      <td>Mike Krieger Asks Which Is 'Fraudulent': Bitco...</td>\n",
       "      <td>6922</td>\n",
       "      <td>586</td>\n",
       "      <td>69073</td>\n",
       "    </tr>\n",
       "    <tr>\n",
       "      <th>1</th>\n",
       "      <td>1</td>\n",
       "      <td>2017-09-13</td>\n",
       "      <td>big_blockers</td>\n",
       "      <td>The current price of Bitcoin is $3941.87.\\n Th...</td>\n",
       "      <td>3041</td>\n",
       "      <td>165</td>\n",
       "      <td>107635</td>\n",
       "    </tr>\n",
       "    <tr>\n",
       "      <th>2</th>\n",
       "      <td>2</td>\n",
       "      <td>2017-09-13</td>\n",
       "      <td>theperson3233</td>\n",
       "      <td>@officialmcafee You talking about Bitcoin cash...</td>\n",
       "      <td>397</td>\n",
       "      <td>610</td>\n",
       "      <td>4528</td>\n",
       "    </tr>\n",
       "    <tr>\n",
       "      <th>3</th>\n",
       "      <td>3</td>\n",
       "      <td>2017-09-13</td>\n",
       "      <td>DisruptBanksy</td>\n",
       "      <td>Buy or sell $100 of #digitalcurrency or more v...</td>\n",
       "      <td>4490</td>\n",
       "      <td>4974</td>\n",
       "      <td>148694</td>\n",
       "    </tr>\n",
       "    <tr>\n",
       "      <th>4</th>\n",
       "      <td>4</td>\n",
       "      <td>2017-09-13</td>\n",
       "      <td>JasperJove</td>\n",
       "      <td>@officialmcafee Hi John, when you say Bitcoin ...</td>\n",
       "      <td>182</td>\n",
       "      <td>555</td>\n",
       "      <td>7548</td>\n",
       "    </tr>\n",
       "    <tr>\n",
       "      <th>...</th>\n",
       "      <td>...</td>\n",
       "      <td>...</td>\n",
       "      <td>...</td>\n",
       "      <td>...</td>\n",
       "      <td>...</td>\n",
       "      <td>...</td>\n",
       "      <td>...</td>\n",
       "    </tr>\n",
       "    <tr>\n",
       "      <th>16507</th>\n",
       "      <td>16507</td>\n",
       "      <td>2022-11-09</td>\n",
       "      <td>big_blockers</td>\n",
       "      <td>The current price of Bitcoin is $18458.95.\\nTh...</td>\n",
       "      <td>3041</td>\n",
       "      <td>165</td>\n",
       "      <td>107635</td>\n",
       "    </tr>\n",
       "    <tr>\n",
       "      <th>16508</th>\n",
       "      <td>16508</td>\n",
       "      <td>2022-11-09</td>\n",
       "      <td>japaneur</td>\n",
       "      <td>Think about all the problems Japan could solve...</td>\n",
       "      <td>357</td>\n",
       "      <td>520</td>\n",
       "      <td>5749</td>\n",
       "    </tr>\n",
       "    <tr>\n",
       "      <th>16509</th>\n",
       "      <td>16509</td>\n",
       "      <td>2022-11-09</td>\n",
       "      <td>crypt0potamus</td>\n",
       "      <td>@reno59392950 @AdithiaKusno @LynAldenContact B...</td>\n",
       "      <td>492</td>\n",
       "      <td>1253</td>\n",
       "      <td>4345</td>\n",
       "    </tr>\n",
       "    <tr>\n",
       "      <th>16510</th>\n",
       "      <td>16510</td>\n",
       "      <td>2022-11-09</td>\n",
       "      <td>CStackamoto</td>\n",
       "      <td>@CryptoVinco Who cares what anyone says about ...</td>\n",
       "      <td>392</td>\n",
       "      <td>248</td>\n",
       "      <td>6734</td>\n",
       "    </tr>\n",
       "    <tr>\n",
       "      <th>16511</th>\n",
       "      <td>16511</td>\n",
       "      <td>2022-11-09</td>\n",
       "      <td>CarbonaraIndex</td>\n",
       "      <td>The price of\\nSpaghetti alla Carbonara\\nis 59,...</td>\n",
       "      <td>81</td>\n",
       "      <td>29</td>\n",
       "      <td>8883</td>\n",
       "    </tr>\n",
       "  </tbody>\n",
       "</table>\n",
       "<p>16512 rows × 7 columns</p>\n",
       "</div>"
      ],
      "text/plain": [
       "       Unnamed: 0        Date            User  \\\n",
       "0               0  2017-09-13         BMouler   \n",
       "1               1  2017-09-13    big_blockers   \n",
       "2               2  2017-09-13   theperson3233   \n",
       "3               3  2017-09-13   DisruptBanksy   \n",
       "4               4  2017-09-13      JasperJove   \n",
       "...           ...         ...             ...   \n",
       "16507       16507  2022-11-09    big_blockers   \n",
       "16508       16508  2022-11-09        japaneur   \n",
       "16509       16509  2022-11-09   crypt0potamus   \n",
       "16510       16510  2022-11-09     CStackamoto   \n",
       "16511       16511  2022-11-09  CarbonaraIndex   \n",
       "\n",
       "                                                 Content  Followers  Friends  \\\n",
       "0      Mike Krieger Asks Which Is 'Fraudulent': Bitco...       6922      586   \n",
       "1      The current price of Bitcoin is $3941.87.\\n Th...       3041      165   \n",
       "2      @officialmcafee You talking about Bitcoin cash...        397      610   \n",
       "3      Buy or sell $100 of #digitalcurrency or more v...       4490     4974   \n",
       "4      @officialmcafee Hi John, when you say Bitcoin ...        182      555   \n",
       "...                                                  ...        ...      ...   \n",
       "16507  The current price of Bitcoin is $18458.95.\\nTh...       3041      165   \n",
       "16508  Think about all the problems Japan could solve...        357      520   \n",
       "16509  @reno59392950 @AdithiaKusno @LynAldenContact B...        492     1253   \n",
       "16510  @CryptoVinco Who cares what anyone says about ...        392      248   \n",
       "16511  The price of\\nSpaghetti alla Carbonara\\nis 59,...         81       29   \n",
       "\n",
       "       Statuses  \n",
       "0         69073  \n",
       "1        107635  \n",
       "2          4528  \n",
       "3        148694  \n",
       "4          7548  \n",
       "...         ...  \n",
       "16507    107635  \n",
       "16508      5749  \n",
       "16509      4345  \n",
       "16510      6734  \n",
       "16511      8883  \n",
       "\n",
       "[16512 rows x 7 columns]"
      ]
     },
     "execution_count": 92,
     "metadata": {},
     "output_type": "execute_result"
    }
   ],
   "source": [
    "btc_tweets"
   ]
  },
  {
   "cell_type": "code",
   "execution_count": 93,
   "metadata": {},
   "outputs": [],
   "source": [
    "import re"
   ]
  },
  {
   "cell_type": "code",
   "execution_count": 94,
   "metadata": {},
   "outputs": [],
   "source": [
    "def preprocess_text(text):\n",
    "    text = text.lower()\n",
    "    text = re.sub(\"@[\\w]*\", \"\", text)\n",
    "    text = re.sub(\"http\\S+\", \"\", text)\n",
    "    text = re.sub(\"[^a-zA-z#]\", \" \", text)\n",
    "    text = re.sub(\"rt\", \"\", text)\n",
    "    text = re.sub(\"\\s+\", \" \", text)\n",
    "\n",
    "    return text"
   ]
  },
  {
   "cell_type": "code",
   "execution_count": 95,
   "metadata": {},
   "outputs": [],
   "source": [
    "btc_tweets['Content'] = btc_tweets['Content'].apply(preprocess_text)"
   ]
  },
  {
   "cell_type": "code",
   "execution_count": 96,
   "metadata": {},
   "outputs": [
    {
     "data": {
      "text/html": [
       "<div>\n",
       "<style scoped>\n",
       "    .dataframe tbody tr th:only-of-type {\n",
       "        vertical-align: middle;\n",
       "    }\n",
       "\n",
       "    .dataframe tbody tr th {\n",
       "        vertical-align: top;\n",
       "    }\n",
       "\n",
       "    .dataframe thead th {\n",
       "        text-align: right;\n",
       "    }\n",
       "</style>\n",
       "<table border=\"1\" class=\"dataframe\">\n",
       "  <thead>\n",
       "    <tr style=\"text-align: right;\">\n",
       "      <th></th>\n",
       "      <th>Unnamed: 0</th>\n",
       "      <th>Date</th>\n",
       "      <th>User</th>\n",
       "      <th>Content</th>\n",
       "      <th>Followers</th>\n",
       "      <th>Friends</th>\n",
       "      <th>Statuses</th>\n",
       "    </tr>\n",
       "  </thead>\n",
       "  <tbody>\n",
       "    <tr>\n",
       "      <th>0</th>\n",
       "      <td>0</td>\n",
       "      <td>2017-09-13</td>\n",
       "      <td>BMouler</td>\n",
       "      <td>mike krieger asks which is fraudulent bitcoin ...</td>\n",
       "      <td>6922</td>\n",
       "      <td>586</td>\n",
       "      <td>69073</td>\n",
       "    </tr>\n",
       "    <tr>\n",
       "      <th>1</th>\n",
       "      <td>1</td>\n",
       "      <td>2017-09-13</td>\n",
       "      <td>big_blockers</td>\n",
       "      <td>the current price of bitcoin is the current pr...</td>\n",
       "      <td>3041</td>\n",
       "      <td>165</td>\n",
       "      <td>107635</td>\n",
       "    </tr>\n",
       "    <tr>\n",
       "      <th>2</th>\n",
       "      <td>2</td>\n",
       "      <td>2017-09-13</td>\n",
       "      <td>theperson3233</td>\n",
       "      <td>you talking about bitcoin cash or btc</td>\n",
       "      <td>397</td>\n",
       "      <td>610</td>\n",
       "      <td>4528</td>\n",
       "    </tr>\n",
       "    <tr>\n",
       "      <th>3</th>\n",
       "      <td>3</td>\n",
       "      <td>2017-09-13</td>\n",
       "      <td>DisruptBanksy</td>\n",
       "      <td>buy or sell of #digitalcurrency or more via yo...</td>\n",
       "      <td>4490</td>\n",
       "      <td>4974</td>\n",
       "      <td>148694</td>\n",
       "    </tr>\n",
       "    <tr>\n",
       "      <th>4</th>\n",
       "      <td>4</td>\n",
       "      <td>2017-09-13</td>\n",
       "      <td>JasperJove</td>\n",
       "      <td>hi john when you say bitcoin you mean btc or ...</td>\n",
       "      <td>182</td>\n",
       "      <td>555</td>\n",
       "      <td>7548</td>\n",
       "    </tr>\n",
       "    <tr>\n",
       "      <th>...</th>\n",
       "      <td>...</td>\n",
       "      <td>...</td>\n",
       "      <td>...</td>\n",
       "      <td>...</td>\n",
       "      <td>...</td>\n",
       "      <td>...</td>\n",
       "      <td>...</td>\n",
       "    </tr>\n",
       "    <tr>\n",
       "      <th>16507</th>\n",
       "      <td>16507</td>\n",
       "      <td>2022-11-09</td>\n",
       "      <td>big_blockers</td>\n",
       "      <td>the current price of bitcoin is the current pr...</td>\n",
       "      <td>3041</td>\n",
       "      <td>165</td>\n",
       "      <td>107635</td>\n",
       "    </tr>\n",
       "    <tr>\n",
       "      <th>16508</th>\n",
       "      <td>16508</td>\n",
       "      <td>2022-11-09</td>\n",
       "      <td>japaneur</td>\n",
       "      <td>think about all the problems japan could solve...</td>\n",
       "      <td>357</td>\n",
       "      <td>520</td>\n",
       "      <td>5749</td>\n",
       "    </tr>\n",
       "    <tr>\n",
       "      <th>16509</th>\n",
       "      <td>16509</td>\n",
       "      <td>2022-11-09</td>\n",
       "      <td>crypt0potamus</td>\n",
       "      <td>bitcoin is backed by pure energy and math so ...</td>\n",
       "      <td>492</td>\n",
       "      <td>1253</td>\n",
       "      <td>4345</td>\n",
       "    </tr>\n",
       "    <tr>\n",
       "      <th>16510</th>\n",
       "      <td>16510</td>\n",
       "      <td>2022-11-09</td>\n",
       "      <td>CStackamoto</td>\n",
       "      <td>who cares what anyone says about price predic...</td>\n",
       "      <td>392</td>\n",
       "      <td>248</td>\n",
       "      <td>6734</td>\n",
       "    </tr>\n",
       "    <tr>\n",
       "      <th>16511</th>\n",
       "      <td>16511</td>\n",
       "      <td>2022-11-09</td>\n",
       "      <td>CarbonaraIndex</td>\n",
       "      <td>the price of spaghetti alla carbonara is satos...</td>\n",
       "      <td>81</td>\n",
       "      <td>29</td>\n",
       "      <td>8883</td>\n",
       "    </tr>\n",
       "  </tbody>\n",
       "</table>\n",
       "<p>16512 rows × 7 columns</p>\n",
       "</div>"
      ],
      "text/plain": [
       "       Unnamed: 0        Date            User  \\\n",
       "0               0  2017-09-13         BMouler   \n",
       "1               1  2017-09-13    big_blockers   \n",
       "2               2  2017-09-13   theperson3233   \n",
       "3               3  2017-09-13   DisruptBanksy   \n",
       "4               4  2017-09-13      JasperJove   \n",
       "...           ...         ...             ...   \n",
       "16507       16507  2022-11-09    big_blockers   \n",
       "16508       16508  2022-11-09        japaneur   \n",
       "16509       16509  2022-11-09   crypt0potamus   \n",
       "16510       16510  2022-11-09     CStackamoto   \n",
       "16511       16511  2022-11-09  CarbonaraIndex   \n",
       "\n",
       "                                                 Content  Followers  Friends  \\\n",
       "0      mike krieger asks which is fraudulent bitcoin ...       6922      586   \n",
       "1      the current price of bitcoin is the current pr...       3041      165   \n",
       "2                 you talking about bitcoin cash or btc         397      610   \n",
       "3      buy or sell of #digitalcurrency or more via yo...       4490     4974   \n",
       "4       hi john when you say bitcoin you mean btc or ...        182      555   \n",
       "...                                                  ...        ...      ...   \n",
       "16507  the current price of bitcoin is the current pr...       3041      165   \n",
       "16508  think about all the problems japan could solve...        357      520   \n",
       "16509   bitcoin is backed by pure energy and math so ...        492     1253   \n",
       "16510   who cares what anyone says about price predic...        392      248   \n",
       "16511  the price of spaghetti alla carbonara is satos...         81       29   \n",
       "\n",
       "       Statuses  \n",
       "0         69073  \n",
       "1        107635  \n",
       "2          4528  \n",
       "3        148694  \n",
       "4          7548  \n",
       "...         ...  \n",
       "16507    107635  \n",
       "16508      5749  \n",
       "16509      4345  \n",
       "16510      6734  \n",
       "16511      8883  \n",
       "\n",
       "[16512 rows x 7 columns]"
      ]
     },
     "execution_count": 96,
     "metadata": {},
     "output_type": "execute_result"
    }
   ],
   "source": [
    "btc_tweets"
   ]
  },
  {
   "cell_type": "code",
   "execution_count": 97,
   "metadata": {},
   "outputs": [],
   "source": [
    "from transformers import AutoTokenizer, AutoModelForSequenceClassification\n",
    "import torch"
   ]
  },
  {
   "cell_type": "code",
   "execution_count": 98,
   "metadata": {},
   "outputs": [],
   "source": [
    "tokenizer = AutoTokenizer.from_pretrained('nlptown/bert-base-multilingual-uncased-sentiment')\n",
    "\n",
    "model = AutoModelForSequenceClassification.from_pretrained('nlptown/bert-base-multilingual-uncased-sentiment')"
   ]
  },
  {
   "cell_type": "code",
   "execution_count": 99,
   "metadata": {},
   "outputs": [],
   "source": [
    "tokens = tokenizer.encode('It was good but couldve been better. Great', return_tensors='pt')"
   ]
  },
  {
   "cell_type": "code",
   "execution_count": 100,
   "metadata": {},
   "outputs": [],
   "source": [
    "\n",
    "result = model(tokens)"
   ]
  },
  {
   "cell_type": "code",
   "execution_count": 101,
   "metadata": {},
   "outputs": [
    {
     "data": {
      "text/plain": [
       "tensor([[-2.7768, -1.2353,  1.4419,  1.9804,  0.4584]],\n",
       "       grad_fn=<AddmmBackward0>)"
      ]
     },
     "execution_count": 101,
     "metadata": {},
     "output_type": "execute_result"
    }
   ],
   "source": [
    "\n",
    "result.logits"
   ]
  },
  {
   "cell_type": "code",
   "execution_count": 102,
   "metadata": {},
   "outputs": [
    {
     "data": {
      "text/plain": [
       "4"
      ]
     },
     "execution_count": 102,
     "metadata": {},
     "output_type": "execute_result"
    }
   ],
   "source": [
    "\n",
    "result.logits\n",
    "int(torch.argmax(result.logits))+1"
   ]
  },
  {
   "cell_type": "code",
   "execution_count": 103,
   "metadata": {},
   "outputs": [],
   "source": [
    "def sentiment_score(review):\n",
    "    tokens = tokenizer.encode(review, return_tensors='pt')\n",
    "    result = model(tokens)\n",
    "    return int(torch.argmax(result.logits))+1"
   ]
  },
  {
   "cell_type": "code",
   "execution_count": 33,
   "metadata": {},
   "outputs": [],
   "source": [
    "def get_sentiment(row):\n",
    "    score = sentiment_score(row)\n",
    "    if score>3:\n",
    "        return \"Positive\"\n",
    "    elif score >=:\n",
    "        return \"Neutral\"\n",
    "    else:\n",
    "        return \"Negative\""
   ]
  },
  {
   "cell_type": "code",
   "execution_count": 68,
   "metadata": {},
   "outputs": [
    {
     "data": {
      "text/plain": [
       "' who cares what anyone says about price predictions nobody can predict the exact price of any commodity at a specific time other than the long term price of btc is clearly upward i ll tell you who doesn t give a fuck about what bears or maxis say bitcoin doesn t give a fuck '"
      ]
     },
     "execution_count": 68,
     "metadata": {},
     "output_type": "execute_result"
    }
   ],
   "source": [
    "btc_tweets.iloc[16510]['Content']"
   ]
  },
  {
   "cell_type": "code",
   "execution_count": 51,
   "metadata": {},
   "outputs": [],
   "source": [
    "test = \"so are you on the side if #btc with the capitalistic and selfish majority thus for #democracy or are you on the side of the creator of bitcoin and for electronic independent consensus controlled cash meaning #bch \""
   ]
  },
  {
   "cell_type": "code",
   "execution_count": 52,
   "metadata": {},
   "outputs": [
    {
     "data": {
      "text/plain": [
       "'Negative'"
      ]
     },
     "execution_count": 52,
     "metadata": {},
     "output_type": "execute_result"
    }
   ],
   "source": [
    "get_sentiment(test)"
   ]
  },
  {
   "cell_type": "code",
   "execution_count": 104,
   "metadata": {},
   "outputs": [],
   "source": [
    "btc_tweets['Sentiment'] = btc_tweets['Content'].apply(sentiment_score)"
   ]
  },
  {
   "cell_type": "code",
   "execution_count": 105,
   "metadata": {},
   "outputs": [],
   "source": [
    "eth_tweets['Sentiment'] = eth_tweets['Content'].apply(sentiment_score)"
   ]
  },
  {
   "cell_type": "code",
   "execution_count": 106,
   "metadata": {},
   "outputs": [],
   "source": [
    "sol_tweets['Sentiment'] = sol_tweets['Content'].apply(sentiment_score)\n",
    "doge_tweets['Sentiment'] = doge_tweets['Content'].apply(sentiment_score)"
   ]
  },
  {
   "cell_type": "code",
   "execution_count": 114,
   "metadata": {},
   "outputs": [
    {
     "data": {
      "text/plain": [
       "1    10933\n",
       "3     2093\n",
       "5     2012\n",
       "2      953\n",
       "4      521\n",
       "Name: Sentiment, dtype: int64"
      ]
     },
     "execution_count": 114,
     "metadata": {},
     "output_type": "execute_result"
    }
   ],
   "source": [
    "btc_tweets['Sentiment'].value_counts()"
   ]
  },
  {
   "cell_type": "code",
   "execution_count": 120,
   "metadata": {},
   "outputs": [],
   "source": [
    "btc_tweets.to_csv('BTC_tweets_with_sentiment.csv')\n",
    "eth_tweets.to_csv('ETH_tweets_with_sentiment.csv')\n",
    "doge_tweets.to_csv('Doge_tweets_with_sentiment.csv')"
   ]
  },
  {
   "cell_type": "code",
   "execution_count": 115,
   "metadata": {},
   "outputs": [
    {
     "data": {
      "text/plain": [
       "1    3522\n",
       "5     938\n",
       "2     473\n",
       "3     459\n",
       "4     407\n",
       "Name: Sentiment, dtype: int64"
      ]
     },
     "execution_count": 115,
     "metadata": {},
     "output_type": "execute_result"
    }
   ],
   "source": [
    "eth_tweets['Sentiment'].value_counts()"
   ]
  },
  {
   "cell_type": "code",
   "execution_count": 116,
   "metadata": {},
   "outputs": [
    {
     "data": {
      "text/plain": [
       "5    3\n",
       "1    1\n",
       "Name: Sentiment, dtype: int64"
      ]
     },
     "execution_count": 116,
     "metadata": {},
     "output_type": "execute_result"
    }
   ],
   "source": [
    "sol_tweets['Sentiment'].value_counts()"
   ]
  },
  {
   "cell_type": "code",
   "execution_count": 119,
   "metadata": {},
   "outputs": [
    {
     "data": {
      "text/plain": [
       "1    266\n",
       "5     57\n",
       "3     26\n",
       "2     16\n",
       "4     10\n",
       "Name: Sentiment, dtype: int64"
      ]
     },
     "execution_count": 119,
     "metadata": {},
     "output_type": "execute_result"
    }
   ],
   "source": [
    "doge_tweets['Sentiment'].value_counts()"
   ]
  },
  {
   "cell_type": "code",
   "execution_count": 113,
   "metadata": {},
   "outputs": [
    {
     "data": {
      "text/html": [
       "<div>\n",
       "<style scoped>\n",
       "    .dataframe tbody tr th:only-of-type {\n",
       "        vertical-align: middle;\n",
       "    }\n",
       "\n",
       "    .dataframe tbody tr th {\n",
       "        vertical-align: top;\n",
       "    }\n",
       "\n",
       "    .dataframe thead th {\n",
       "        text-align: right;\n",
       "    }\n",
       "</style>\n",
       "<table border=\"1\" class=\"dataframe\">\n",
       "  <thead>\n",
       "    <tr style=\"text-align: right;\">\n",
       "      <th></th>\n",
       "      <th>Unnamed: 0</th>\n",
       "      <th>Date</th>\n",
       "      <th>User</th>\n",
       "      <th>Content</th>\n",
       "      <th>Followers</th>\n",
       "      <th>Friends</th>\n",
       "      <th>Statuses</th>\n",
       "      <th>Sentiment</th>\n",
       "    </tr>\n",
       "  </thead>\n",
       "  <tbody>\n",
       "    <tr>\n",
       "      <th>3</th>\n",
       "      <td>3</td>\n",
       "      <td>2017-09-13</td>\n",
       "      <td>DisruptBanksy</td>\n",
       "      <td>buy or sell of #digitalcurrency or more via yo...</td>\n",
       "      <td>4490</td>\n",
       "      <td>4974</td>\n",
       "      <td>148694</td>\n",
       "      <td>5</td>\n",
       "    </tr>\n",
       "    <tr>\n",
       "      <th>36</th>\n",
       "      <td>36</td>\n",
       "      <td>2017-09-13</td>\n",
       "      <td>Teokanistras</td>\n",
       "      <td>sta mining effectively with your computer or s...</td>\n",
       "      <td>141056</td>\n",
       "      <td>114314</td>\n",
       "      <td>856105</td>\n",
       "      <td>5</td>\n",
       "    </tr>\n",
       "    <tr>\n",
       "      <th>46</th>\n",
       "      <td>46</td>\n",
       "      <td>2017-09-13</td>\n",
       "      <td>sharedkran</td>\n",
       "      <td>bitcoin generator online btc instant lets see ...</td>\n",
       "      <td>34</td>\n",
       "      <td>447</td>\n",
       "      <td>1340</td>\n",
       "      <td>5</td>\n",
       "    </tr>\n",
       "    <tr>\n",
       "      <th>53</th>\n",
       "      <td>53</td>\n",
       "      <td>2017-09-13</td>\n",
       "      <td>CRYPTOCURRBIT</td>\n",
       "      <td>earn interest on lending litecoin or ethereum ...</td>\n",
       "      <td>2754</td>\n",
       "      <td>4959</td>\n",
       "      <td>44532</td>\n",
       "      <td>5</td>\n",
       "    </tr>\n",
       "    <tr>\n",
       "      <th>57</th>\n",
       "      <td>57</td>\n",
       "      <td>2017-09-13</td>\n",
       "      <td>lakeemwilliams</td>\n",
       "      <td>bitcoin btc direct to your bitcoin wallet wit...</td>\n",
       "      <td>3311</td>\n",
       "      <td>1934</td>\n",
       "      <td>122548</td>\n",
       "      <td>5</td>\n",
       "    </tr>\n",
       "    <tr>\n",
       "      <th>...</th>\n",
       "      <td>...</td>\n",
       "      <td>...</td>\n",
       "      <td>...</td>\n",
       "      <td>...</td>\n",
       "      <td>...</td>\n",
       "      <td>...</td>\n",
       "      <td>...</td>\n",
       "      <td>...</td>\n",
       "    </tr>\n",
       "    <tr>\n",
       "      <th>16462</th>\n",
       "      <td>16462</td>\n",
       "      <td>2022-11-09</td>\n",
       "      <td>MarketNomad_</td>\n",
       "      <td>it s amazing how people always wish they bough...</td>\n",
       "      <td>134</td>\n",
       "      <td>330</td>\n",
       "      <td>502</td>\n",
       "      <td>5</td>\n",
       "    </tr>\n",
       "    <tr>\n",
       "      <th>16464</th>\n",
       "      <td>16464</td>\n",
       "      <td>2022-11-09</td>\n",
       "      <td>CryptoMoonMag</td>\n",
       "      <td>the real power of #bitcoin is that you don t ...</td>\n",
       "      <td>11730</td>\n",
       "      <td>29</td>\n",
       "      <td>446</td>\n",
       "      <td>5</td>\n",
       "    </tr>\n",
       "    <tr>\n",
       "      <th>16468</th>\n",
       "      <td>16468</td>\n",
       "      <td>2022-11-09</td>\n",
       "      <td>CannabisNFTMag</td>\n",
       "      <td>get in #bitcoin now at blockfi why just hodl w...</td>\n",
       "      <td>461</td>\n",
       "      <td>72</td>\n",
       "      <td>8952</td>\n",
       "      <td>5</td>\n",
       "    </tr>\n",
       "    <tr>\n",
       "      <th>16481</th>\n",
       "      <td>16481</td>\n",
       "      <td>2022-11-09</td>\n",
       "      <td>boomer_btc</td>\n",
       "      <td>the development of these cards is a great exa...</td>\n",
       "      <td>3883</td>\n",
       "      <td>812</td>\n",
       "      <td>4797</td>\n",
       "      <td>5</td>\n",
       "    </tr>\n",
       "    <tr>\n",
       "      <th>16497</th>\n",
       "      <td>16497</td>\n",
       "      <td>2022-11-09</td>\n",
       "      <td>SPr13st</td>\n",
       "      <td>disclosure increased my position to gt of #cho...</td>\n",
       "      <td>857</td>\n",
       "      <td>1794</td>\n",
       "      <td>6445</td>\n",
       "      <td>5</td>\n",
       "    </tr>\n",
       "  </tbody>\n",
       "</table>\n",
       "<p>2012 rows × 8 columns</p>\n",
       "</div>"
      ],
      "text/plain": [
       "       Unnamed: 0        Date            User  \\\n",
       "3               3  2017-09-13   DisruptBanksy   \n",
       "36             36  2017-09-13    Teokanistras   \n",
       "46             46  2017-09-13      sharedkran   \n",
       "53             53  2017-09-13   CRYPTOCURRBIT   \n",
       "57             57  2017-09-13  lakeemwilliams   \n",
       "...           ...         ...             ...   \n",
       "16462       16462  2022-11-09    MarketNomad_   \n",
       "16464       16464  2022-11-09   CryptoMoonMag   \n",
       "16468       16468  2022-11-09  CannabisNFTMag   \n",
       "16481       16481  2022-11-09      boomer_btc   \n",
       "16497       16497  2022-11-09         SPr13st   \n",
       "\n",
       "                                                 Content  Followers  Friends  \\\n",
       "3      buy or sell of #digitalcurrency or more via yo...       4490     4974   \n",
       "36     sta mining effectively with your computer or s...     141056   114314   \n",
       "46     bitcoin generator online btc instant lets see ...         34      447   \n",
       "53     earn interest on lending litecoin or ethereum ...       2754     4959   \n",
       "57      bitcoin btc direct to your bitcoin wallet wit...       3311     1934   \n",
       "...                                                  ...        ...      ...   \n",
       "16462  it s amazing how people always wish they bough...        134      330   \n",
       "16464   the real power of #bitcoin is that you don t ...      11730       29   \n",
       "16468  get in #bitcoin now at blockfi why just hodl w...        461       72   \n",
       "16481   the development of these cards is a great exa...       3883      812   \n",
       "16497  disclosure increased my position to gt of #cho...        857     1794   \n",
       "\n",
       "       Statuses  Sentiment  \n",
       "3        148694          5  \n",
       "36       856105          5  \n",
       "46         1340          5  \n",
       "53        44532          5  \n",
       "57       122548          5  \n",
       "...         ...        ...  \n",
       "16462       502          5  \n",
       "16464       446          5  \n",
       "16468      8952          5  \n",
       "16481      4797          5  \n",
       "16497      6445          5  \n",
       "\n",
       "[2012 rows x 8 columns]"
      ]
     },
     "execution_count": 113,
     "metadata": {},
     "output_type": "execute_result"
    }
   ],
   "source": [
    "btc_tweets[btc_tweets['Sentiment']==5]"
   ]
  }
 ],
 "metadata": {
  "kernelspec": {
   "display_name": "crawler_course",
   "language": "python",
   "name": "python3"
  },
  "language_info": {
   "codemirror_mode": {
    "name": "ipython",
    "version": 3
   },
   "file_extension": ".py",
   "mimetype": "text/x-python",
   "name": "python",
   "nbconvert_exporter": "python",
   "pygments_lexer": "ipython3",
   "version": "3.10.8"
  },
  "orig_nbformat": 4,
  "vscode": {
   "interpreter": {
    "hash": "0a6ba9941288f714356349755966eb186cd9be4426cafe3b89464483255d162a"
   }
  }
 },
 "nbformat": 4,
 "nbformat_minor": 2
}
